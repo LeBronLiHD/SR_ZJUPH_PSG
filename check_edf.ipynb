{
 "cells": [
  {
   "cell_type": "code",
   "execution_count": 1,
   "id": "393fd88d",
   "metadata": {},
   "outputs": [
    {
     "name": "stdout",
     "output_type": "stream",
     "text": [
      "Requirement already satisfied: fabio in d:\\miniconda3\\envs\\torch_1-11\\lib\\site-packages (0.13.0)\n",
      "Requirement already satisfied: setuptools in d:\\miniconda3\\envs\\torch_1-11\\lib\\site-packages (from fabio) (61.2.0)\n",
      "Requirement already satisfied: numpy>=1.19.3 in d:\\miniconda3\\envs\\torch_1-11\\lib\\site-packages (from fabio) (1.21.5)\n"
     ]
    }
   ],
   "source": [
    "!pip install fabio"
   ]
  },
  {
   "cell_type": "code",
   "execution_count": 2,
   "id": "ecf13dd1",
   "metadata": {},
   "outputs": [],
   "source": [
    "import numpy as np\n",
    "import fabio\n",
    "import matplotlib as plt\n",
    "import os\n",
    "import mne\n",
    "from mne.datasets.sleep_physionet.age import fetch_data\n",
    "from mne.time_frequency import psd_welch\n",
    "from collections import Counter\n",
    "\n",
    "from sklearn.ensemble import RandomForestClassifier\n",
    "from sklearn.metrics import accuracy_score\n",
    "from sklearn.metrics import confusion_matrix\n",
    "from sklearn.metrics import classification_report\n",
    "from sklearn.pipeline import make_pipeline\n",
    "from sklearn.preprocessing import FunctionTransformer"
   ]
  },
  {
   "cell_type": "code",
   "execution_count": 3,
   "id": "b7719220",
   "metadata": {},
   "outputs": [],
   "source": [
    "DATA_PATH = \".\\\\data\""
   ]
  },
  {
   "cell_type": "code",
   "execution_count": 4,
   "id": "56cbaa8c",
   "metadata": {},
   "outputs": [],
   "source": [
    "def get_patients(path=DATA_PATH):\n",
    "    patients = os.listdir(path)\n",
    "    return [os.path.join(path, item) for item in patients]"
   ]
  },
  {
   "cell_type": "code",
   "execution_count": 5,
   "id": "74f30246",
   "metadata": {},
   "outputs": [
    {
     "name": "stdout",
     "output_type": "stream",
     "text": [
      "['.\\\\data\\\\PSGData1_Hang7', '.\\\\data\\\\PSGData2_Hang7']\n"
     ]
    }
   ],
   "source": [
    "PATIENTS = get_patients()\n",
    "print(PATIENTS)"
   ]
  },
  {
   "cell_type": "code",
   "execution_count": 6,
   "id": "1b449a9a",
   "metadata": {},
   "outputs": [],
   "source": [
    "def get_edf(path):\n",
    "    files = os.listdir(path)\n",
    "    for file in files:\n",
    "        if file[-4:] == '.edf':\n",
    "            return os.path.join(path, file)\n",
    "    print(\"No .edf file in ->\", path)\n",
    "    return None"
   ]
  },
  {
   "cell_type": "code",
   "execution_count": 7,
   "id": "d412e3d2",
   "metadata": {},
   "outputs": [
    {
     "data": {
      "text/plain": [
       "'.\\\\data\\\\PSGData1_Hang7\\\\20190917-T3-93135.edf'"
      ]
     },
     "execution_count": 7,
     "metadata": {},
     "output_type": "execute_result"
    }
   ],
   "source": [
    "get_edf(PATIENTS[0])"
   ]
  },
  {
   "cell_type": "code",
   "execution_count": 8,
   "id": "0c183626",
   "metadata": {},
   "outputs": [],
   "source": [
    "def load_raw_edf(path):\n",
    "    raw_train = mne.io.read_raw_edf(path)\n",
    "    return raw_train"
   ]
  },
  {
   "cell_type": "code",
   "execution_count": 9,
   "id": "45d7eb72",
   "metadata": {},
   "outputs": [
    {
     "name": "stdout",
     "output_type": "stream",
     "text": [
      "Extracting EDF parameters from E:\\ZJU_Research\\SR_ZJUPH_PSG\\data\\PSGData1_Hang7\\20190917-T3-93135.edf...\n",
      "EDF file detected\n",
      "Setting channel info structure...\n",
      "Creating raw.info structure...\n"
     ]
    },
    {
     "name": "stderr",
     "output_type": "stream",
     "text": [
      "C:\\Users\\lebro\\AppData\\Local\\Temp\\ipykernel_23600\\1145657219.py:2: RuntimeWarning: Physical range is not defined in following channels:\n",
      "Thor, Abdo\n",
      "  raw_train = mne.io.read_raw_edf(path)\n"
     ]
    }
   ],
   "source": [
    "data = load_raw_edf(get_edf(PATIENTS[0]))"
   ]
  },
  {
   "cell_type": "code",
   "execution_count": 10,
   "id": "383062c9",
   "metadata": {},
   "outputs": [],
   "source": [
    "def show_shape(data):\n",
    "    print(data)\n",
    "    print(\"length ->\", len(data))\n",
    "    for i in range(23):\n",
    "        print(\"length of <\", i + 1, \"> is\", \n",
    "              len(data[i]), \" \\t==== \", \n",
    "              len(data[i][0][0]), \" \\t==== \", \n",
    "              len(data[i][1]), \" \\t==== \")\n",
    "        print(\"data[i][1][0] ->\", data[i][1][0], \n",
    "              \"\\ndata[i][1][1000] ->\", data[i][1][1000], \n",
    "              \"\\ndata[i][1][36441087] ->\", data[i][1][36441088 - 1],\n",
    "              \"\\ndata[i][0] ->\", data[i][0][0],\n",
    "              \"\\ndata[i][1] ->\", data[i][1],\n",
    "              \"\\nmax() ->\", max(data[i][1]))"
   ]
  },
  {
   "cell_type": "code",
   "execution_count": 11,
   "id": "3563072c",
   "metadata": {
    "scrolled": false
   },
   "outputs": [
    {
     "name": "stdout",
     "output_type": "stream",
     "text": [
      "<RawEDF | 20190917-T3-93135.edf, 23 x 36441088 (35587.0 s), ~26 kB, data not loaded>\n",
      "length -> 36441088\n",
      "length of < 1 > is 2  \t====  36441088  \t====  36441088  \t==== \n",
      "data[i][1][0] -> 0.0 \n",
      "data[i][1][1000] -> 0.9765625 \n",
      "data[i][1][36441087] -> 35586.9990234375 \n",
      "data[i][0] -> [ 1.14473182e-09 -3.84092346e-06  1.79722896e-07 ... -1.49829394e-05\n",
      " -1.29755352e-05 -4.08743188e-06] \n",
      "data[i][1] -> [0.00000000e+00 9.76562500e-04 1.95312500e-03 ... 3.55869971e+04\n",
      " 3.55869980e+04 3.55869990e+04] \n",
      "max() -> 35586.9990234375\n",
      "length of < 2 > is 2  \t====  36441088  \t====  36441088  \t==== \n",
      "data[i][1][0] -> 0.0 \n",
      "data[i][1][1000] -> 0.9765625 \n",
      "data[i][1][36441087] -> 35586.9990234375 \n",
      "data[i][0] -> [1.14473182e-09 1.10249415e-05 6.04761822e-06 ... 1.30668593e-05\n",
      " 1.08532024e-05 6.65499783e-06] \n",
      "data[i][1] -> [0.00000000e+00 9.76562500e-04 1.95312500e-03 ... 3.55869971e+04\n",
      " 3.55869980e+04 3.55869990e+04] \n",
      "max() -> 35586.9990234375\n",
      "length of < 3 > is 2  \t====  36441088  \t====  36441088  \t==== \n",
      "data[i][1][0] -> 0.0 \n",
      "data[i][1][1000] -> 0.9765625 \n",
      "data[i][1][36441087] -> 35586.9990234375 \n",
      "data[i][0] -> [ 1.14473182e-09 -7.68686266e-07  4.15537652e-07 ... -7.65038911e-07\n",
      " -2.96371069e-06 -7.50506414e-06] \n",
      "data[i][1] -> [0.00000000e+00 9.76562500e-04 1.95312500e-03 ... 3.55869971e+04\n",
      " 3.55869980e+04 3.55869990e+04] \n",
      "max() -> 35586.9990234375\n",
      "length of < 4 > is 2  \t====  36441088  \t====  36441088  \t==== \n",
      "data[i][1][0] -> 0.0 \n",
      "data[i][1][1000] -> 0.9765625 \n",
      "data[i][1][36441087] -> 35586.9990234375 \n",
      "data[i][0] -> [1.14473182e-09 1.29538106e-05 6.35440635e-06 ... 2.21417891e-05\n",
      " 1.90334560e-05 1.15202594e-05] \n",
      "data[i][1] -> [0.00000000e+00 9.76562500e-04 1.95312500e-03 ... 3.55869971e+04\n",
      " 3.55869980e+04 3.55869990e+04] \n",
      "max() -> 35586.9990234375\n",
      "length of < 5 > is 2  \t====  36441088  \t====  36441088  \t==== \n",
      "data[i][1][0] -> 0.0 \n",
      "data[i][1][1000] -> 0.9765625 \n",
      "data[i][1][36441087] -> 35586.9990234375 \n",
      "data[i][0] -> [ 1.14473182e-09  8.74233870e-06  2.29289784e-06 ... -8.60844477e-06\n",
      " -8.80184298e-06 -7.18475358e-06] \n",
      "data[i][1] -> [0.00000000e+00 9.76562500e-04 1.95312500e-03 ... 3.55869971e+04\n",
      " 3.55869980e+04 3.55869990e+04] \n",
      "max() -> 35586.9990234375\n",
      "length of < 6 > is 2  \t====  36441088  \t====  36441088  \t==== \n",
      "data[i][1][0] -> 0.0 \n",
      "data[i][1][1000] -> 0.9765625 \n",
      "data[i][1][36441087] -> 35586.9990234375 \n",
      "data[i][0] -> [1.14473182e-09 1.30012751e-05 6.47803738e-06 ... 1.87179689e-05\n",
      " 1.48208429e-05 9.61767435e-06] \n",
      "data[i][1] -> [0.00000000e+00 9.76562500e-04 1.95312500e-03 ... 3.55869971e+04\n",
      " 3.55869980e+04 3.55869990e+04] \n",
      "max() -> 35586.9990234375\n",
      "length of < 7 > is 2  \t====  36441088  \t====  36441088  \t==== \n",
      "data[i][1][0] -> 0.0 \n",
      "data[i][1][1000] -> 0.9765625 \n",
      "data[i][1][36441087] -> 35586.9990234375 \n",
      "data[i][0] -> [ 1.14473182e-09  8.91187555e-07 -5.16274052e-07 ... -2.52997704e-05\n",
      " -2.04231604e-05 -1.00091049e-06] \n",
      "data[i][1] -> [0.00000000e+00 9.76562500e-04 1.95312500e-03 ... 3.55869971e+04\n",
      " 3.55869980e+04 3.55869990e+04] \n",
      "max() -> 35586.9990234375\n",
      "length of < 8 > is 2  \t====  36441088  \t====  36441088  \t==== \n",
      "data[i][1][0] -> 0.0 \n",
      "data[i][1][1000] -> 0.9765625 \n",
      "data[i][1][36441087] -> 35586.9990234375 \n",
      "data[i][0] -> [ 1.14473182e-09 -5.11210083e-06 -9.00903944e-07 ... -9.84376005e-06\n",
      " -1.10958856e-05 -1.35461731e-05] \n",
      "data[i][1] -> [0.00000000e+00 9.76562500e-04 1.95312500e-03 ... 3.55869971e+04\n",
      " 3.55869980e+04 3.55869990e+04] \n",
      "max() -> 35586.9990234375\n",
      "length of < 9 > is 2  \t====  36441088  \t====  36441088  \t==== \n",
      "data[i][1][0] -> 0.0 \n",
      "data[i][1][1000] -> 0.9765625 \n",
      "data[i][1][36441087] -> 35586.9990234375 \n",
      "data[i][0] -> [ 3.05180438e-10  1.73154959e-06  5.37453269e-06 ... -3.79932156e-06\n",
      " -5.96963455e-06 -7.63405006e-06] \n",
      "data[i][1] -> [0.00000000e+00 9.76562500e-04 1.95312500e-03 ... 3.55869971e+04\n",
      " 3.55869980e+04 3.55869990e+04] \n",
      "max() -> 35586.9990234375\n",
      "length of < 10 > is 2  \t====  36441088  \t====  36441088  \t==== \n",
      "data[i][1][0] -> 0.0 \n",
      "data[i][1][1000] -> 0.9765625 \n",
      "data[i][1][36441087] -> 35586.9990234375 \n",
      "data[i][0] -> [ 3.05180438e-10  1.36906169e-06  4.50720989e-06 ... -7.16529318e-06\n",
      " -1.12016480e-05 -9.83615863e-06] \n",
      "data[i][1] -> [0.00000000e+00 9.76562500e-04 1.95312500e-03 ... 3.55869971e+04\n",
      " 3.55869980e+04 3.55869990e+04] \n",
      "max() -> 35586.9990234375\n",
      "length of < 11 > is 2  \t====  36441088  \t====  36441088  \t==== \n",
      "data[i][1][0] -> 0.0 \n",
      "data[i][1][1000] -> 0.9765625 \n",
      "data[i][1][36441087] -> 35586.9990234375 \n",
      "data[i][0] -> [ 1.90737774e-08 -3.33553359e-05  3.24826429e-05 ... -2.44185851e-04\n",
      " -2.35160601e-04 -1.62834070e-04] \n",
      "data[i][1] -> [0.00000000e+00 9.76562500e-04 1.95312500e-03 ... 3.55869971e+04\n",
      " 3.55869980e+04 3.55869990e+04] \n",
      "max() -> 35586.9990234375\n",
      "length of < 12 > is 2  \t====  36441088  \t====  36441088  \t==== \n",
      "data[i][1][0] -> 0.0 \n",
      "data[i][1][1000] -> 0.9765625 \n",
      "data[i][1][36441087] -> 35586.9990234375 \n",
      "data[i][0] -> [7.62951095e-07 7.62951095e-07 2.28885328e-06 ... 4.80659190e-05\n",
      " 4.19623102e-05 3.73846036e-05] \n",
      "data[i][1] -> [0.00000000e+00 9.76562500e-04 1.95312500e-03 ... 3.55869971e+04\n",
      " 3.55869980e+04 3.55869990e+04] \n",
      "max() -> 35586.9990234375\n",
      "length of < 13 > is 2  \t====  36441088  \t====  36441088  \t==== \n",
      "data[i][1][0] -> 0.0 \n",
      "data[i][1][1000] -> 0.9765625 \n",
      "data[i][1][36441087] -> 35586.9990234375 \n",
      "data[i][0] -> [ 7.62951095e-10  3.38261562e-07  6.47400307e-07 ... -1.67492559e-05\n",
      " -2.27141149e-05 -2.85853315e-05] \n",
      "data[i][1] -> [0.00000000e+00 9.76562500e-04 1.95312500e-03 ... 3.55869971e+04\n",
      " 3.55869980e+04 3.55869990e+04] \n",
      "max() -> 35586.9990234375\n",
      "length of < 14 > is 2  \t====  36441088  \t====  36441088  \t==== \n",
      "data[i][1][0] -> 0.0 \n",
      "data[i][1][1000] -> 0.9765625 \n",
      "data[i][1][36441087] -> 35586.9990234375 \n",
      "data[i][0] -> [0.50000763 0.51259125 0.52453034 ... 0.50043371 0.50042978 0.50042507] \n",
      "data[i][1] -> [0.00000000e+00 9.76562500e-04 1.95312500e-03 ... 3.55869971e+04\n",
      " 3.55869980e+04 3.55869990e+04] \n",
      "max() -> 35586.9990234375\n",
      "length of < 15 > is 2  \t====  36441088  \t====  36441088  \t==== \n",
      "data[i][1][0] -> 0.0 \n",
      "data[i][1][1000] -> 0.9765625 \n",
      "data[i][1][36441087] -> 35586.9990234375 \n",
      "data[i][0] -> [0.50000763 0.51059582 0.52037085 ... 0.50021806 0.50023098 0.50024223] \n",
      "data[i][1] -> [0.00000000e+00 9.76562500e-04 1.95312500e-03 ... 3.55869971e+04\n",
      " 3.55869980e+04 3.55869990e+04] \n",
      "max() -> 35586.9990234375\n",
      "length of < 16 > is 2  \t====  36441088  \t====  36441088  \t==== \n",
      "data[i][1][0] -> 0.0 \n",
      "data[i][1][1000] -> 0.9765625 \n",
      "data[i][1][36441087] -> 35586.9990234375 \n",
      "data[i][0] -> [97.97512779 97.97503298 97.97494205 ... 83.58594257 83.58695388\n",
      " 83.58794731] \n",
      "data[i][1] -> [0.00000000e+00 9.76562500e-04 1.95312500e-03 ... 3.55869971e+04\n",
      " 3.55869980e+04 3.55869990e+04] \n",
      "max() -> 35586.9990234375\n",
      "length of < 17 > is 2  \t====  36441088  \t====  36441088  \t==== \n",
      "data[i][1][0] -> 0.0 \n",
      "data[i][1][1000] -> 0.9765625 \n",
      "data[i][1][36441087] -> 35586.9990234375 \n",
      "data[i][0] -> [ 3.81475547e-06 -2.86041873e-04 -8.87544372e-04 ...  1.61902364e-05\n",
      " -2.77045729e-06 -2.02746165e-05] \n",
      "data[i][1] -> [0.00000000e+00 9.76562500e-04 1.95312500e-03 ... 3.55869971e+04\n",
      " 3.55869980e+04 3.55869990e+04] \n",
      "max() -> 35586.9990234375\n",
      "length of < 18 > is 2  \t====  36441088  \t====  36441088  \t==== \n",
      "data[i][1][0] -> 0.0 \n",
      "data[i][1][1000] -> 0.9765625 \n",
      "data[i][1][36441087] -> 35586.9990234375 \n",
      "data[i][0] -> [4. 4. 4. ... 0. 0. 0.] \n",
      "data[i][1] -> [0.00000000e+00 9.76562500e-04 1.95312500e-03 ... 3.55869971e+04\n",
      " 3.55869980e+04 3.55869990e+04] \n",
      "max() -> 35586.9990234375\n",
      "length of < 19 > is 2  \t====  36441088  \t====  36441088  \t==== \n",
      "data[i][1][0] -> 0.0 \n",
      "data[i][1][1000] -> 0.9765625 \n",
      "data[i][1][36441087] -> 35586.9990234375 \n",
      "data[i][0] -> [ 1.52590219e-09 -8.05201497e-06 -1.68612192e-06 ...  9.20440741e-06\n",
      " -5.66567483e-06 -1.68739753e-05] \n",
      "data[i][1] -> [0.00000000e+00 9.76562500e-04 1.95312500e-03 ... 3.55869971e+04\n",
      " 3.55869980e+04 3.55869990e+04] \n",
      "max() -> 35586.9990234375\n",
      "length of < 20 > is 2  \t====  36441088  \t====  36441088  \t==== \n",
      "data[i][1][0] -> 0.0 \n",
      "data[i][1][1000] -> 0.9765625 \n",
      "data[i][1][36441087] -> 35586.9990234375 \n",
      "data[i][0] -> [ 1.52590219e-09  3.27900470e-07 -5.90524147e-07 ...  2.25255609e-05\n",
      "  1.24406806e-05 -2.68213575e-06] \n",
      "data[i][1] -> [0.00000000e+00 9.76562500e-04 1.95312500e-03 ... 3.55869971e+04\n",
      " 3.55869980e+04 3.55869990e+04] \n",
      "max() -> 35586.9990234375\n"
     ]
    },
    {
     "name": "stdout",
     "output_type": "stream",
     "text": [
      "length of < 21 > is 2  \t====  36441088  \t====  36441088  \t==== \n",
      "data[i][1][0] -> 0.0 \n",
      "data[i][1][1000] -> 0.9765625 \n",
      "data[i][1][36441087] -> 35586.9990234375 \n",
      "data[i][0] -> [0. 0. 0. ... 0. 0. 0.] \n",
      "data[i][1] -> [0.00000000e+00 9.76562500e-04 1.95312500e-03 ... 3.55869971e+04\n",
      " 3.55869980e+04 3.55869990e+04] \n",
      "max() -> 35586.9990234375\n",
      "length of < 22 > is 2  \t====  36441088  \t====  36441088  \t==== \n",
      "data[i][1][0] -> 0.0 \n",
      "data[i][1][1000] -> 0.9765625 \n",
      "data[i][1][36441087] -> 35586.9990234375 \n",
      "data[i][0] -> [7.26024262 7.26227436 7.26436658 ... 7.24001331 7.24053375 7.24092077] \n",
      "data[i][1] -> [0.00000000e+00 9.76562500e-04 1.95312500e-03 ... 3.55869971e+04\n",
      " 3.55869980e+04 3.55869990e+04] \n",
      "max() -> 35586.9990234375\n",
      "length of < 23 > is 2  \t====  36441088  \t====  36441088  \t==== \n",
      "data[i][1][0] -> 0.0 \n",
      "data[i][1][1000] -> 0.9765625 \n",
      "data[i][1][36441087] -> 35586.9990234375 \n",
      "data[i][0] -> [0. 0. 0. ... 0. 0. 0.] \n",
      "data[i][1] -> [0.00000000e+00 9.76562500e-04 1.95312500e-03 ... 3.55869971e+04\n",
      " 3.55869980e+04 3.55869990e+04] \n",
      "max() -> 35586.9990234375\n"
     ]
    }
   ],
   "source": [
    "show_shape(data)"
   ]
  },
  {
   "cell_type": "code",
   "execution_count": 12,
   "id": "bcd5579f",
   "metadata": {},
   "outputs": [],
   "source": [
    "def get_txt(path):\n",
    "    files = os.listdir(path)\n",
    "    for file in files:\n",
    "        if file[-4:] == \".txt\":\n",
    "            return os.path.join(path, file)\n",
    "    print(\"No .txt file in ->\", path)\n",
    "    return None"
   ]
  },
  {
   "cell_type": "code",
   "execution_count": 13,
   "id": "1f3ffe4e",
   "metadata": {},
   "outputs": [
    {
     "data": {
      "text/plain": [
       "'.\\\\data\\\\PSGData1_Hang7\\\\20190917-T3-93135.txt'"
      ]
     },
     "execution_count": 13,
     "metadata": {},
     "output_type": "execute_result"
    }
   ],
   "source": [
    "get_txt(PATIENTS[0])"
   ]
  },
  {
   "cell_type": "code",
   "execution_count": 14,
   "id": "210c381f",
   "metadata": {},
   "outputs": [],
   "source": [
    "def load_txt_label(path):\n",
    "    return open(path, mode=\"r\", encoding=\"UTF8\").read().split(\"\\n\")"
   ]
  },
  {
   "cell_type": "code",
   "execution_count": 15,
   "id": "af6a835a",
   "metadata": {},
   "outputs": [],
   "source": [
    "label = load_txt_label(get_txt(PATIENTS[0]))"
   ]
  },
  {
   "cell_type": "code",
   "execution_count": 16,
   "id": "d5f0c7b9",
   "metadata": {},
   "outputs": [],
   "source": [
    "def show_label(label):\n",
    "    print(\"len(label) ->\", len(label))\n",
    "    cnt = Counter(label)\n",
    "    print(dict(cnt))\n",
    "    return dict(cnt)"
   ]
  },
  {
   "cell_type": "code",
   "execution_count": 17,
   "id": "c0387e3a",
   "metadata": {},
   "outputs": [
    {
     "name": "stdout",
     "output_type": "stream",
     "text": [
      "len(label) -> 1187\n",
      "{'W': 304, 'N1': 82, 'N2': 464, 'N3': 153, 'R': 183, '': 1}\n"
     ]
    },
    {
     "data": {
      "text/plain": [
       "{'W': 304, 'N1': 82, 'N2': 464, 'N3': 153, 'R': 183, '': 1}"
      ]
     },
     "execution_count": 17,
     "metadata": {},
     "output_type": "execute_result"
    }
   ],
   "source": [
    "show_label(label)"
   ]
  },
  {
   "cell_type": "code",
   "execution_count": 19,
   "id": "95c88a87",
   "metadata": {},
   "outputs": [
    {
     "data": {
      "text/plain": [
       "''"
      ]
     },
     "execution_count": 19,
     "metadata": {},
     "output_type": "execute_result"
    }
   ],
   "source": [
    "label[-1]"
   ]
  },
  {
   "cell_type": "code",
   "execution_count": 20,
   "id": "78007b21",
   "metadata": {},
   "outputs": [],
   "source": [
    "label = label[:-1]"
   ]
  },
  {
   "cell_type": "code",
   "execution_count": 21,
   "id": "f75fa022",
   "metadata": {},
   "outputs": [
    {
     "name": "stdout",
     "output_type": "stream",
     "text": [
      "len(label) -> 1186\n",
      "{'W': 304, 'N1': 82, 'N2': 464, 'N3': 153, 'R': 183}\n"
     ]
    },
    {
     "data": {
      "text/plain": [
       "{'W': 304, 'N1': 82, 'N2': 464, 'N3': 153, 'R': 183}"
      ]
     },
     "execution_count": 21,
     "metadata": {},
     "output_type": "execute_result"
    }
   ],
   "source": [
    "show_label(label)"
   ]
  },
  {
   "cell_type": "code",
   "execution_count": 22,
   "id": "37cd687a",
   "metadata": {},
   "outputs": [
    {
     "name": "stdout",
     "output_type": "stream",
     "text": [
      "30726.04384485666\n"
     ]
    }
   ],
   "source": [
    "print(len(data)/len(label))"
   ]
  }
 ],
 "metadata": {
  "kernelspec": {
   "display_name": "Python 3 (ipykernel)",
   "language": "python",
   "name": "python3"
  },
  "language_info": {
   "codemirror_mode": {
    "name": "ipython",
    "version": 3
   },
   "file_extension": ".py",
   "mimetype": "text/x-python",
   "name": "python",
   "nbconvert_exporter": "python",
   "pygments_lexer": "ipython3",
   "version": "3.9.12"
  }
 },
 "nbformat": 4,
 "nbformat_minor": 5
}
