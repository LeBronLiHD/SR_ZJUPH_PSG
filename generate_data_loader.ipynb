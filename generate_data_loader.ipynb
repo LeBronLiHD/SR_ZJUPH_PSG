{
 "cells": [
  {
   "cell_type": "code",
   "execution_count": 1,
   "id": "498da0a3",
   "metadata": {},
   "outputs": [],
   "source": [
    "import matplotlib.pyplot as plt\n",
    "import os\n",
    "import mne\n",
    "import numpy as np\n",
    "import params\n",
    "import seaborn as sns\n",
    "import pandas as pd\n",
    "import utils\n",
    "from sklearn.model_selection import train_test_split"
   ]
  },
  {
   "cell_type": "code",
   "execution_count": 2,
   "id": "6ad36486",
   "metadata": {},
   "outputs": [],
   "source": [
    "# @static\n",
    "def _split_train_test(ori_x, ori_y):\n",
    "    \"\"\"\n",
    "    ori_x -> 1186, 23, 37026\n",
    "    ori_y -> 1186\n",
    "    \"\"\"\n",
    "    index = np.arange(len(ori_y))\n",
    "    np.random.shuffle(index)\n",
    "    ori_x = ori_x[index, :, :]\n",
    "    ori_y = ori_y[index]\n",
    "    cur_x_train, cur_y_train, cur_x_test, cur_y_test = train_test_split(ori_x, ori_y, test_size=(1 - params.SPLIT_RATIO), random_state=42)\n",
    "    return cur_x_train, cur_y_train, cur_x_test, cur_y_test\n",
    "\n",
    "# @static \n",
    "def _get_normal_edf(edf_data):\n",
    "    new_data = []\n",
    "    for j in range(params.DIMENSION):\n",
    "        print(\"Normalizing ... Current Dimension ->\", j)\n",
    "        new_data.append(utils._normalization(edf_data[j][params.VALUE_IDX][0]))\n",
    "    print(\"Normalization Done!\")\n",
    "    return np.array(new_data)\n",
    "\n",
    "# @static\n",
    "def _generate_train_test(edf_data, txt_data):\n",
    "    ori_x, ori_y = [], []\n",
    "    for i in range(len(txt_data)):\n",
    "        print(\"Generating Train&Test ... Current Index ->\", i) if i % 50 == 0 else None\n",
    "        ori_y.append(params.LABEL_DICT[txt_data[i]])\n",
    "        ori_x_unit = []\n",
    "        for j in range(params.DIMENSION):\n",
    "            ori_x_unit.append(edf_data[j][round(params.UNIT_LENGTH_F * j):round(params.UNIT_LENGTH_F * j) + params.UNIT_LENGTH])\n",
    "        ori_x.append(ori_x_unit)\n",
    "    return np.array(ori_x), np.array(ori_y)\n",
    "\n",
    "# @static\n",
    "def _get_train_test(patient):\n",
    "    edf_data = utils.get_edf(path=patient)\n",
    "    txt_data = open(utils.get_txt(path=patient), mode=\"r\", encoding=\"UTF8\").read().split(\"\\n\")\n",
    "    txt_data = txt_data[:-1]\n",
    "    print(len(txt_data), len(edf_data))\n",
    "    ori_x, ori_y = _generate_train_test(_get_normal_edf(edf_data), txt_data)\n",
    "    return _split_train_test(ori_x, ori_y)\n",
    "\n",
    "def show_shape(x_train, y_train, x_test, y_test):\n",
    "    print(\"x_train ->\", x_train.shape, x_train[0].shape)\n",
    "    print(\"y_train ->\", y_train.shape)\n",
    "    print(\"x_test  ->\", x_test.shape, x_test[0].shape)\n",
    "    print(\"y_test  ->\", y_test.shape)"
   ]
  },
  {
   "cell_type": "code",
   "execution_count": 3,
   "id": "87643588",
   "metadata": {
    "scrolled": false
   },
   "outputs": [
    {
     "name": "stdout",
     "output_type": "stream",
     "text": [
      "Load .edf -> .\\data\\PSGData1_Hang7\\20190917-T3-93135.edf\n",
      "Extracting EDF parameters from E:\\ZJU_Research\\SR_ZJUPH_PSG\\data\\PSGData1_Hang7\\20190917-T3-93135.edf...\n",
      "EDF file detected\n",
      "Setting channel info structure...\n",
      "Creating raw.info structure...\n"
     ]
    },
    {
     "name": "stderr",
     "output_type": "stream",
     "text": [
      "E:\\ZJU_Research\\SR_ZJUPH_PSG\\utils.py:27: RuntimeWarning: Physical range is not defined in following channels:\n",
      "Thor, Abdo\n",
      "  raw_train = mne.io.read_raw_edf(path)\n"
     ]
    },
    {
     "name": "stdout",
     "output_type": "stream",
     "text": [
      "1186 36441088\n",
      "Normalizing ... Current Dimension -> 0\n",
      "Normalizing ... Current Dimension -> 1\n",
      "Normalizing ... Current Dimension -> 2\n",
      "Normalizing ... Current Dimension -> 3\n",
      "Normalizing ... Current Dimension -> 4\n",
      "Normalizing ... Current Dimension -> 5\n",
      "Normalizing ... Current Dimension -> 6\n",
      "Normalizing ... Current Dimension -> 7\n",
      "Normalizing ... Current Dimension -> 8\n",
      "Normalizing ... Current Dimension -> 9\n",
      "Normalizing ... Current Dimension -> 10\n",
      "Normalizing ... Current Dimension -> 11\n",
      "Normalizing ... Current Dimension -> 12\n",
      "Normalizing ... Current Dimension -> 13\n",
      "Normalizing ... Current Dimension -> 14\n",
      "Normalizing ... Current Dimension -> 15\n",
      "Normalizing ... Current Dimension -> 16\n",
      "Normalizing ... Current Dimension -> 17\n",
      "Normalizing ... Current Dimension -> 18\n",
      "Normalizing ... Current Dimension -> 19\n",
      "Normalizing ... Current Dimension -> 20\n",
      "Return data, np.std(data) is too Low! len data -> 36441088\n",
      "Normalizing ... Current Dimension -> 21\n",
      "Normalizing ... Current Dimension -> 22\n",
      "Return data, np.std(data) is too Low! len data -> 36441088\n",
      "Normalization Done!\n",
      "Generating Train&Test ... Current Index -> 0\n",
      "Generating Train&Test ... Current Index -> 50\n",
      "Generating Train&Test ... Current Index -> 100\n",
      "Generating Train&Test ... Current Index -> 150\n",
      "Generating Train&Test ... Current Index -> 200\n",
      "Generating Train&Test ... Current Index -> 250\n",
      "Generating Train&Test ... Current Index -> 300\n",
      "Generating Train&Test ... Current Index -> 350\n",
      "Generating Train&Test ... Current Index -> 400\n",
      "Generating Train&Test ... Current Index -> 450\n",
      "Generating Train&Test ... Current Index -> 500\n",
      "Generating Train&Test ... Current Index -> 550\n",
      "Generating Train&Test ... Current Index -> 600\n",
      "Generating Train&Test ... Current Index -> 650\n",
      "Generating Train&Test ... Current Index -> 700\n",
      "Generating Train&Test ... Current Index -> 750\n",
      "Generating Train&Test ... Current Index -> 800\n",
      "Generating Train&Test ... Current Index -> 850\n",
      "Generating Train&Test ... Current Index -> 900\n",
      "Generating Train&Test ... Current Index -> 950\n",
      "Generating Train&Test ... Current Index -> 1000\n",
      "Generating Train&Test ... Current Index -> 1050\n",
      "Generating Train&Test ... Current Index -> 1100\n",
      "Generating Train&Test ... Current Index -> 1150\n",
      "Load .edf -> .\\data\\PSGData2_Hang7\\20190924-T2-93329.edf\n",
      "Extracting EDF parameters from E:\\ZJU_Research\\SR_ZJUPH_PSG\\data\\PSGData2_Hang7\\20190924-T2-93329.edf...\n",
      "EDF file detected\n",
      "Setting channel info structure...\n",
      "Creating raw.info structure...\n"
     ]
    },
    {
     "name": "stderr",
     "output_type": "stream",
     "text": [
      "E:\\ZJU_Research\\SR_ZJUPH_PSG\\utils.py:27: RuntimeWarning: Physical range is not defined in following channels:\n",
      "Thor, Abdo\n",
      "  raw_train = mne.io.read_raw_edf(path)\n"
     ]
    },
    {
     "name": "stdout",
     "output_type": "stream",
     "text": [
      "1168 35885056\n",
      "Normalizing ... Current Dimension -> 0\n",
      "Normalizing ... Current Dimension -> 1\n",
      "Normalizing ... Current Dimension -> 2\n",
      "Normalizing ... Current Dimension -> 3\n",
      "Normalizing ... Current Dimension -> 4\n",
      "Normalizing ... Current Dimension -> 5\n",
      "Normalizing ... Current Dimension -> 6\n",
      "Normalizing ... Current Dimension -> 7\n",
      "Normalizing ... Current Dimension -> 8\n",
      "Normalizing ... Current Dimension -> 9\n",
      "Normalizing ... Current Dimension -> 10\n",
      "Normalizing ... Current Dimension -> 11\n",
      "Normalizing ... Current Dimension -> 12\n",
      "Normalizing ... Current Dimension -> 13\n",
      "Normalizing ... Current Dimension -> 14\n",
      "Normalizing ... Current Dimension -> 15\n",
      "Normalizing ... Current Dimension -> 16\n",
      "Normalizing ... Current Dimension -> 17\n",
      "Normalizing ... Current Dimension -> 18\n",
      "Normalizing ... Current Dimension -> 19\n",
      "Normalizing ... Current Dimension -> 20\n",
      "Normalizing ... Current Dimension -> 21\n",
      "Normalizing ... Current Dimension -> 22\n",
      "Normalization Done!\n",
      "Generating Train&Test ... Current Index -> 0\n",
      "Generating Train&Test ... Current Index -> 50\n",
      "Generating Train&Test ... Current Index -> 100\n",
      "Generating Train&Test ... Current Index -> 150\n",
      "Generating Train&Test ... Current Index -> 200\n",
      "Generating Train&Test ... Current Index -> 250\n",
      "Generating Train&Test ... Current Index -> 300\n",
      "Generating Train&Test ... Current Index -> 350\n",
      "Generating Train&Test ... Current Index -> 400\n",
      "Generating Train&Test ... Current Index -> 450\n",
      "Generating Train&Test ... Current Index -> 500\n",
      "Generating Train&Test ... Current Index -> 550\n",
      "Generating Train&Test ... Current Index -> 600\n",
      "Generating Train&Test ... Current Index -> 650\n",
      "Generating Train&Test ... Current Index -> 700\n",
      "Generating Train&Test ... Current Index -> 750\n",
      "Generating Train&Test ... Current Index -> 800\n",
      "Generating Train&Test ... Current Index -> 850\n",
      "Generating Train&Test ... Current Index -> 900\n",
      "Generating Train&Test ... Current Index -> 950\n",
      "Generating Train&Test ... Current Index -> 1000\n",
      "Generating Train&Test ... Current Index -> 1050\n",
      "Generating Train&Test ... Current Index -> 1100\n",
      "Generating Train&Test ... Current Index -> 1150\n"
     ]
    }
   ],
   "source": [
    "x_train, y_train, x_test, y_test = [], [], [], []\n",
    "for patient in params.PATIENTS:\n",
    "    cur_x_train, cur_x_test, cur_y_train, cur_y_test = _get_train_test(patient=patient)\n",
    "    x_train.extend(cur_x_train)\n",
    "    y_train.extend(cur_y_train)\n",
    "    x_test.extend(cur_x_test)\n",
    "    y_test.extend(cur_y_test)"
   ]
  },
  {
   "cell_type": "code",
   "execution_count": 4,
   "id": "8e6f34e3",
   "metadata": {},
   "outputs": [
    {
     "name": "stdout",
     "output_type": "stream",
     "text": [
      "x_train -> (1882, 23, 30726) (23, 30726)\n",
      "y_train -> (1882,)\n",
      "x_test  -> (472, 23, 30726) (23, 30726)\n",
      "y_test  -> (472,)\n"
     ]
    }
   ],
   "source": [
    "x_train, y_train, x_test, y_test = np.array(x_train), np.array(y_train), np.array(x_test), np.array(y_test)\n",
    "show_shape(x_train, y_train, x_test, y_test)"
   ]
  }
 ],
 "metadata": {
  "kernelspec": {
   "display_name": "Python 3 (ipykernel)",
   "language": "python",
   "name": "python3"
  },
  "language_info": {
   "codemirror_mode": {
    "name": "ipython",
    "version": 3
   },
   "file_extension": ".py",
   "mimetype": "text/x-python",
   "name": "python",
   "nbconvert_exporter": "python",
   "pygments_lexer": "ipython3",
   "version": "3.9.12"
  }
 },
 "nbformat": 4,
 "nbformat_minor": 5
}
