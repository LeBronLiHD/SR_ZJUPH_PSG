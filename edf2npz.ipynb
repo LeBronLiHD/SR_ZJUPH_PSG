{
 "cells": [
  {
   "cell_type": "code",
   "execution_count": 6,
   "id": "7ed58203",
   "metadata": {},
   "outputs": [],
   "source": [
    "import utils\n",
    "import numpy as np\n",
    "import matplotlib.pyplot as plt\n",
    "import params\n",
    "import data_loader\n",
    "import os"
   ]
  },
  {
   "cell_type": "code",
   "execution_count": 2,
   "id": "db890ba8",
   "metadata": {},
   "outputs": [
    {
     "name": "stdout",
     "output_type": "stream",
     "text": [
      "Load .edf -> .\\data\\PSGData1_Hang7\\20190917-T3-93135.edf\n",
      "Extracting EDF parameters from E:\\ZJU_Research\\SR_ZJUPH_PSG\\data\\PSGData1_Hang7\\20190917-T3-93135.edf...\n",
      "EDF file detected\n",
      "Setting channel info structure...\n",
      "Creating raw.info structure...\n"
     ]
    },
    {
     "name": "stderr",
     "output_type": "stream",
     "text": [
      "E:\\ZJU_Research\\SR_ZJUPH_PSG\\utils.py:27: RuntimeWarning: Physical range is not defined in following channels:\n",
      "Thor, Abdo\n",
      "  raw_train = mne.io.read_raw_edf(path)\n"
     ]
    },
    {
     "name": "stdout",
     "output_type": "stream",
     "text": [
      "1186 36441088\n",
      "Normalizing ... Current Dimension -> 0\n",
      "Normalizing ... Current Dimension -> 1\n",
      "Normalizing ... Current Dimension -> 2\n",
      "Normalizing ... Current Dimension -> 3\n",
      "Normalizing ... Current Dimension -> 4\n",
      "Normalizing ... Current Dimension -> 5\n",
      "Normalizing ... Current Dimension -> 6\n",
      "Normalizing ... Current Dimension -> 7\n",
      "Normalizing ... Current Dimension -> 8\n",
      "Normalizing ... Current Dimension -> 9\n",
      "Normalizing ... Current Dimension -> 10\n",
      "Normalizing ... Current Dimension -> 11\n",
      "Normalizing ... Current Dimension -> 12\n",
      "Normalizing ... Current Dimension -> 13\n",
      "Normalizing ... Current Dimension -> 14\n",
      "Normalizing ... Current Dimension -> 15\n",
      "Normalizing ... Current Dimension -> 16\n",
      "Normalizing ... Current Dimension -> 17\n",
      "Normalizing ... Current Dimension -> 18\n",
      "Normalizing ... Current Dimension -> 19\n",
      "Normalizing ... Current Dimension -> 20\n",
      "Return data, np.std(data) is too Low! len data -> 36441088\n",
      "Normalizing ... Current Dimension -> 21\n",
      "Normalizing ... Current Dimension -> 22\n",
      "Return data, np.std(data) is too Low! len data -> 36441088\n",
      "Normalization Done!\n",
      "Generating Train&Test ... Current Index -> 0\n",
      "Generating Train&Test ... Current Index -> 50\n",
      "Generating Train&Test ... Current Index -> 100\n",
      "Generating Train&Test ... Current Index -> 150\n",
      "Generating Train&Test ... Current Index -> 200\n",
      "Generating Train&Test ... Current Index -> 250\n",
      "Generating Train&Test ... Current Index -> 300\n",
      "Generating Train&Test ... Current Index -> 350\n",
      "Generating Train&Test ... Current Index -> 400\n",
      "Generating Train&Test ... Current Index -> 450\n",
      "Generating Train&Test ... Current Index -> 500\n",
      "Generating Train&Test ... Current Index -> 550\n",
      "Generating Train&Test ... Current Index -> 600\n",
      "Generating Train&Test ... Current Index -> 650\n",
      "Generating Train&Test ... Current Index -> 700\n",
      "Generating Train&Test ... Current Index -> 750\n",
      "Generating Train&Test ... Current Index -> 800\n",
      "Generating Train&Test ... Current Index -> 850\n",
      "Generating Train&Test ... Current Index -> 900\n",
      "Generating Train&Test ... Current Index -> 950\n",
      "Generating Train&Test ... Current Index -> 1000\n",
      "Generating Train&Test ... Current Index -> 1050\n",
      "Generating Train&Test ... Current Index -> 1100\n",
      "Generating Train&Test ... Current Index -> 1150\n",
      "x_train -> (948, 30726, 23) (30726, 23)\n",
      "y_train -> (948,)\n",
      "x_test  -> (238, 30726, 23) (30726, 23)\n",
      "y_test  -> (238,)\n"
     ]
    }
   ],
   "source": [
    "x_train_ori, y_train_ori, x_test_ori, y_test_ori = data_loader.get_train_test()"
   ]
  },
  {
   "cell_type": "code",
   "execution_count": 3,
   "id": "fb735a81",
   "metadata": {},
   "outputs": [],
   "source": [
    "x_train_ori = list(x_train_ori)\n",
    "y_train_ori = list(y_train_ori)\n",
    "x_test_ori = list(x_test_ori)\n",
    "y_test_ori = list(y_test_ori)"
   ]
  },
  {
   "cell_type": "code",
   "execution_count": 4,
   "id": "983e41c6",
   "metadata": {},
   "outputs": [
    {
     "name": "stdout",
     "output_type": "stream",
     "text": [
      "(1186, 30726, 23)\n",
      "(1186,)\n"
     ]
    }
   ],
   "source": [
    "x_train_ori.extend(x_test_ori)\n",
    "y_train_ori.extend(y_test_ori)\n",
    "X, Y = np.array(x_train_ori), np.array(y_train_ori)\n",
    "print(X.shape)\n",
    "print(Y.shape)"
   ]
  },
  {
   "cell_type": "code",
   "execution_count": 7,
   "id": "5920bda1",
   "metadata": {},
   "outputs": [],
   "source": [
    "np.savez(os.path.join(params.DATA_PATH, \"data_sleep.npz\"), x=X, y=Y)"
   ]
  },
  {
   "cell_type": "code",
   "execution_count": null,
   "id": "5b12b91d",
   "metadata": {},
   "outputs": [],
   "source": []
  }
 ],
 "metadata": {
  "kernelspec": {
   "display_name": "Python 3 (ipykernel)",
   "language": "python",
   "name": "python3"
  },
  "language_info": {
   "codemirror_mode": {
    "name": "ipython",
    "version": 3
   },
   "file_extension": ".py",
   "mimetype": "text/x-python",
   "name": "python",
   "nbconvert_exporter": "python",
   "pygments_lexer": "ipython3",
   "version": "3.9.12"
  }
 },
 "nbformat": 4,
 "nbformat_minor": 5
}
